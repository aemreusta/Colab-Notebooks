{
  "nbformat": 4,
  "nbformat_minor": 0,
  "metadata": {
    "colab": {
      "name": "Download.ipynb",
      "provenance": [],
      "authorship_tag": "ABX9TyPucTh699KpTQe4gVCYW7O8",
      "include_colab_link": true
    },
    "kernelspec": {
      "name": "python3",
      "display_name": "Python 3"
    },
    "language_info": {
      "name": "python"
    }
  },
  "cells": [
    {
      "cell_type": "markdown",
      "metadata": {
        "id": "view-in-github",
        "colab_type": "text"
      },
      "source": [
        "<a href=\"https://colab.research.google.com/github/a-emreusta/Colab-Notebooks/blob/main/Download%20TCGA%20Data%20to%20Google%20Drive.ipynb\" target=\"_parent\"><img src=\"https://colab.research.google.com/assets/colab-badge.svg\" alt=\"Open In Colab\"/></a>"
      ]
    },
    {
      "cell_type": "code",
      "execution_count": 1,
      "metadata": {
        "colab": {
          "base_uri": "https://localhost:8080/"
        },
        "id": "11LKvwGUXilA",
        "outputId": "dee8a68c-5d86-4c72-f5eb-375b909cb31f"
      },
      "outputs": [
        {
          "output_type": "stream",
          "name": "stdout",
          "text": [
            "Mounted at /content/drive\n"
          ]
        }
      ],
      "source": [
        "from google.colab import drive\n",
        "\n",
        "drive.mount(\"/content/drive\")"
      ]
    },
    {
      "cell_type": "code",
      "source": [
        ""
      ],
      "metadata": {
        "colab": {
          "base_uri": "https://localhost:8080/"
        },
        "id": "sdnD_tm0YEmO",
        "outputId": "36033780-7587-4705-84b1-6cfeff01ca6c"
      },
      "execution_count": 2,
      "outputs": [
        {
          "output_type": "stream",
          "name": "stdout",
          "text": [
            "--2022-08-15 12:00:23--  https://gdc.cancer.gov/files/public/file/gdc-client_v1.6.1_Ubuntu_x64.zip\n",
            "Resolving gdc.cancer.gov (gdc.cancer.gov)... 151.101.1.193, 151.101.65.193, 151.101.129.193, ...\n",
            "Connecting to gdc.cancer.gov (gdc.cancer.gov)|151.101.1.193|:443... connected.\n",
            "HTTP request sent, awaiting response... 200 OK\n",
            "Length: 23940006 (23M) [application/zip]\n",
            "Saving to: ‘gdc-client_v1.6.1_Ubuntu_x64.zip’\n",
            "\n",
            "gdc-client_v1.6.1_U 100%[===================>]  22.83M   138MB/s    in 0.2s    \n",
            "\n",
            "2022-08-15 12:00:27 (138 MB/s) - ‘gdc-client_v1.6.1_Ubuntu_x64.zip’ saved [23940006/23940006]\n",
            "\n"
          ]
        }
      ]
    },
    {
      "cell_type": "code",
      "source": [
        "!./content/drive/MyDrive/Datasets/TCGA/gdc-client "
      ],
      "metadata": {
        "colab": {
          "base_uri": "https://localhost:8080/"
        },
        "id": "QRxQQ7lPYK9s",
        "outputId": "de89d833-e103-4ef2-ba7f-2ba760eee41f"
      },
      "execution_count": 6,
      "outputs": [
        {
          "output_type": "stream",
          "name": "stdout",
          "text": [
            "Archive:  /content/drive/MyDrive/Datasets/TCGA/gdc-client_v1.6.1_Ubuntu_x64.zip\n",
            " extracting: /content/drive/MyDrive/Datasets/TCGA/gdc-client  \n"
          ]
        }
      ]
    }
  ]
}