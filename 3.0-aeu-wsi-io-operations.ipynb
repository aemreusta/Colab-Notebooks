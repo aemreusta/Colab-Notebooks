{
 "cells": [
  {
   "cell_type": "code",
   "execution_count": 55,
   "metadata": {},
   "outputs": [],
   "source": [
    "import pandas as pd\n",
    "import os\n",
    "import shutil\n",
    "from tqdm import tqdm"
   ]
  },
  {
   "cell_type": "code",
   "execution_count": 59,
   "metadata": {},
   "outputs": [
    {
     "name": "stdout",
     "output_type": "stream",
     "text": [
      "21\n"
     ]
    }
   ],
   "source": [
    "slides = os.listdir(\"../slides\")\n",
    "print(len(slides))"
   ]
  },
  {
   "cell_type": "code",
   "execution_count": 38,
   "metadata": {},
   "outputs": [
    {
     "data": {
      "text/html": [
       "<div>\n",
       "<style scoped>\n",
       "    .dataframe tbody tr th:only-of-type {\n",
       "        vertical-align: middle;\n",
       "    }\n",
       "\n",
       "    .dataframe tbody tr th {\n",
       "        vertical-align: top;\n",
       "    }\n",
       "\n",
       "    .dataframe thead th {\n",
       "        text-align: right;\n",
       "    }\n",
       "</style>\n",
       "<table border=\"1\" class=\"dataframe\">\n",
       "  <thead>\n",
       "    <tr style=\"text-align: right;\">\n",
       "      <th></th>\n",
       "      <th>TARİH</th>\n",
       "      <th>BİOPSİ NO</th>\n",
       "      <th>TANI</th>\n",
       "      <th>LAM SAYISI</th>\n",
       "    </tr>\n",
       "  </thead>\n",
       "  <tbody>\n",
       "    <tr>\n",
       "      <th>0</th>\n",
       "      <td>2018</td>\n",
       "      <td>6577</td>\n",
       "      <td>?</td>\n",
       "      <td>2</td>\n",
       "    </tr>\n",
       "    <tr>\n",
       "      <th>1</th>\n",
       "      <td>2018</td>\n",
       "      <td>26844</td>\n",
       "      <td>?</td>\n",
       "      <td>2</td>\n",
       "    </tr>\n",
       "    <tr>\n",
       "      <th>2</th>\n",
       "      <td>2015</td>\n",
       "      <td>8799</td>\n",
       "      <td>?</td>\n",
       "      <td>3</td>\n",
       "    </tr>\n",
       "    <tr>\n",
       "      <th>3</th>\n",
       "      <td>2015</td>\n",
       "      <td>25226</td>\n",
       "      <td>?</td>\n",
       "      <td>1</td>\n",
       "    </tr>\n",
       "    <tr>\n",
       "      <th>4</th>\n",
       "      <td>2019</td>\n",
       "      <td>16563</td>\n",
       "      <td>16463}</td>\n",
       "      <td>3</td>\n",
       "    </tr>\n",
       "  </tbody>\n",
       "</table>\n",
       "</div>"
      ],
      "text/plain": [
       "   TARİH  BİOPSİ NO    TANI LAM SAYISI\n",
       "0   2018       6577       ?          2\n",
       "1   2018      26844       ?          2\n",
       "2   2015       8799       ?          3\n",
       "3   2015      25226       ?          1\n",
       "4   2019      16563  16463}          3"
      ]
     },
     "execution_count": 38,
     "metadata": {},
     "output_type": "execute_result"
    }
   ],
   "source": [
    "df = pd.read_excel(\"slide-ids.xlsx\")\n",
    "df.head()"
   ]
  },
  {
   "cell_type": "code",
   "execution_count": 42,
   "metadata": {},
   "outputs": [
    {
     "name": "stdout",
     "output_type": "stream",
     "text": [
      "<class 'pandas.core.frame.DataFrame'>\n",
      "RangeIndex: 145 entries, 0 to 144\n",
      "Data columns (total 4 columns):\n",
      " #   Column      Non-Null Count  Dtype \n",
      "---  ------      --------------  ----- \n",
      " 0   TARİH       145 non-null    int64 \n",
      " 1   BİOPSİ NO   145 non-null    int64 \n",
      " 2   TANI        145 non-null    object\n",
      " 3   LAM SAYISI  87 non-null     object\n",
      "dtypes: int64(2), object(2)\n",
      "memory usage: 4.7+ KB\n"
     ]
    }
   ],
   "source": [
    "df.info()"
   ]
  },
  {
   "cell_type": "code",
   "execution_count": 15,
   "metadata": {},
   "outputs": [
    {
     "data": {
      "text/plain": [
       "array(['?', '16463}', 'LMS', 'MPSKT', 'MPSKT?', 'RMS', 'SS'], dtype=object)"
      ]
     },
     "execution_count": 15,
     "metadata": {},
     "output_type": "execute_result"
    }
   ],
   "source": [
    "df[\"TANI\"].unique()"
   ]
  },
  {
   "cell_type": "code",
   "execution_count": 12,
   "metadata": {},
   "outputs": [],
   "source": [
    "df_grouped = df.groupby(\"TANI\")"
   ]
  },
  {
   "cell_type": "code",
   "execution_count": 52,
   "metadata": {},
   "outputs": [],
   "source": [
    "lms = df_grouped.get_group(\"LMS\")[\"BİOPSİ NO\"].values\n",
    "rms = df_grouped.get_group(\"RMS\")[\"BİOPSİ NO\"].values\n",
    "ss = df_grouped.get_group(\"SS\")[\"BİOPSİ NO\"].values\n",
    "mpskt = df_grouped.get_group(\"MPSKT\")[\"BİOPSİ NO\"].values"
   ]
  },
  {
   "cell_type": "code",
   "execution_count": 60,
   "metadata": {},
   "outputs": [
    {
     "name": "stderr",
     "output_type": "stream",
     "text": [
      "100%|██████████| 21/21 [00:00<00:00, 45756.04it/s]"
     ]
    },
    {
     "name": "stdout",
     "output_type": "stream",
     "text": [
      "list index out of range\n",
      "ZONG  leiomyosarkom\n",
      "invalid literal for int() with base 10: 'periferik'\n",
      "ZONG  malign-periferik\n",
      "list index out of range\n",
      "ZONG  rabdomyosarkom\n",
      "invalid literal for int() with base 10: 'sarkom'\n",
      "ZONG  sinovyal-sarkom\n"
     ]
    },
    {
     "name": "stderr",
     "output_type": "stream",
     "text": [
      "\n"
     ]
    }
   ],
   "source": [
    "for slide in tqdm(slides):\n",
    "    try:\n",
    "        slide_id = int(slide.split(\"-\")[1])\n",
    "\n",
    "        if slide_id in lms:\n",
    "            shutil.move(\"../slides/\" + slide, \"../slides/leiomyosarkom/\" + slide)\n",
    "\n",
    "        elif slide_id in rms:\n",
    "            shutil.move(\"../slides/\" + slide, \"../slides/rabdomyosarkom/\" + slide)\n",
    "\n",
    "        elif slide_id in ss:\n",
    "            shutil.move(\"../slides/\" + slide, \"../slides/sinovyal-sarkom/\" + slide)\n",
    "\n",
    "        elif slide_id in mpskt:\n",
    "            shutil.move(\"../slides/\" + slide, \"../slides/malign-periferik/\" + slide)\n",
    "\n",
    "    except Exception as e:\n",
    "        print(e)\n",
    "        print(\"ZONG \", slide)"
   ]
  },
  {
   "cell_type": "code",
   "execution_count": null,
   "metadata": {},
   "outputs": [],
   "source": [
    "def count_items(path, indent=0):\n",
    "    num_items = 0\n",
    "    for root, dirs, files in os.walk(path):\n",
    "        print(\"  \" * indent + os.path.basename(root) + \"/\")\n",
    "        indent += 1\n",
    "        for file in files:\n",
    "            num_items += 1\n",
    "            print(\"  \" * indent + file)\n",
    "        for subdir in dirs:\n",
    "            subdir_path = os.path.join(root, subdir)\n",
    "            num_items += count_items(subdir_path, indent)\n",
    "    return num_items"
   ]
  },
  {
   "cell_type": "code",
   "execution_count": 70,
   "metadata": {},
   "outputs": [
    {
     "name": "stdout",
     "output_type": "stream",
     "text": [
      "slides/ -> 17\n",
      "  leiomyosarkom/ -> 63\n",
      "    malign-periferik/ -> 58\n",
      "      rabdomyosarkom/ -> 57\n",
      "        sinovyal-sarkom/ -> 55\n"
     ]
    }
   ],
   "source": [
    "indent = 0\n",
    "\n",
    "for root, dirs, files in os.walk(\"../slides\"):\n",
    "    print(\"  \" * indent + os.path.basename(root) + \"/ -> \" + str(len(files)))\n",
    "    indent += 1"
   ]
  }
 ],
 "metadata": {
  "kernelspec": {
   "display_name": "base",
   "language": "python",
   "name": "python3"
  },
  "language_info": {
   "codemirror_mode": {
    "name": "ipython",
    "version": 3
   },
   "file_extension": ".py",
   "mimetype": "text/x-python",
   "name": "python",
   "nbconvert_exporter": "python",
   "pygments_lexer": "ipython3",
   "version": "3.10.10"
  },
  "orig_nbformat": 4
 },
 "nbformat": 4,
 "nbformat_minor": 2
}
